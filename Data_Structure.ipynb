{
  "nbformat": 4,
  "nbformat_minor": 0,
  "metadata": {
    "colab": {
      "provenance": []
    },
    "kernelspec": {
      "name": "python3",
      "display_name": "Python 3"
    },
    "language_info": {
      "name": "python"
    }
  },
  "cells": [
    {
      "cell_type": "markdown",
      "source": [
        "# Data Types and Structures Questions"
      ],
      "metadata": {
        "id": "VczNJ2n0YpUY"
      }
    },
    {
      "cell_type": "markdown",
      "source": [
        "1. # What are data structures, and why are they important?\n",
        "  - Data structures are ways of organizing and storing data in a computer so that it can be accessed and modified efficiently. Think of them like containers for data, where each type of container is optimized for different tasks or problems.\n",
        "           \n",
        "         (a)Common Types of Data Structures:\n",
        "\n",
        "\n",
        "Arrays – Store elements in a fixed-size, ordered list.\n",
        "\n",
        "Linked Lists – Consist of nodes that hold data and pointers to the next node.\n",
        "\n",
        "Stacks – Follow Last-In-First-Out (LIFO) ordering.\n",
        "\n",
        "Queues – Follow First-In-First-Out (FIFO) ordering.\n",
        "\n",
        "Hash Tables / Hash Maps – Store key-value pairs for fast lookups.\n",
        "\n",
        "Trees – Hierarchical structures like binary trees, binary search trees, etc.\n",
        "\n",
        "Graphs – Represent relationships between entities (nodes and edges).\n",
        "\n",
        "Heaps – A type of tree used mainly for priority queues.\n",
        "\n",
        "                 (b) Why Data Structures Are Important:\n",
        "                 \n",
        "Efficiency: They help you store and access data in the most efficient way for the problem at hand.\n",
        "\n",
        "Optimization: Choosing the right structure can drastically reduce the time and space your program uses.\n",
        "\n",
        "Problem-solving: Many algorithms are built around specific data structures (e.g., Dijkstra’s algorithm uses a priority queue).\n",
        "\n",
        "Maintainability: Well-structured data makes code easier to understand and modify.\n"
      ],
      "metadata": {
        "id": "CJPeL-L_Omvh"
      }
    },
    {
      "cell_type": "markdown",
      "source": [
        "2. # Explain the difference between mutable and immutable data types with examples.\n",
        "\n",
        "  - # Mutable data can be changed after it's created. This means you can add, remove, or modify elements without creating a new object.\n",
        "\n",
        "Common Mutable Data Types (in Python):\n",
        "\n",
        "\n",
        "List\n",
        "\n",
        "Dictionary\n",
        "\n",
        "Set\n",
        "\n",
        "User-defined classes (by default)\n",
        "\n",
        "\n",
        "Example of Mutable Data"
      ],
      "metadata": {
        "id": "EH9JW1EdPvlS"
      }
    },
    {
      "cell_type": "code",
      "source": [
        "#list\n",
        "my_list = [1, 2, 3]\n",
        "my_list.append(4)  # Modifying the list\n",
        "print(my_list)  # Output: [1, 2, 3, 4]"
      ],
      "metadata": {
        "colab": {
          "base_uri": "https://localhost:8080/"
        },
        "id": "JK9gWD8sRXxc",
        "outputId": "e3054e54-e228-4112-d0f7-84c09031d8fb"
      },
      "execution_count": null,
      "outputs": [
        {
          "output_type": "stream",
          "name": "stdout",
          "text": [
            "[1, 2, 3, 4]\n"
          ]
        }
      ]
    },
    {
      "cell_type": "code",
      "source": [
        "#Dictionary\n",
        "my_dict = {'a': 1, 'b': 2}\n",
        "my_dict['c'] = 3  # Modifying the dictionary\n",
        "print(my_dict)  # Output: {'a': 1, 'b': 2, 'c': 3}"
      ],
      "metadata": {
        "colab": {
          "base_uri": "https://localhost:8080/"
        },
        "id": "fdufiShwRqBK",
        "outputId": "fd47a630-6b55-4250-8358-1017203d1830"
      },
      "execution_count": null,
      "outputs": [
        {
          "output_type": "stream",
          "name": "stdout",
          "text": [
            "{'a': 1, 'b': 2, 'c': 3}\n"
          ]
        }
      ]
    },
    {
      "cell_type": "code",
      "source": [
        "#Set\n",
        "my_set = {1, 2, 3}\n",
        "my_set.add(4)  # Modifying the set\n",
        "print(my_set)  # Output: {1, 2, 3, 4}"
      ],
      "metadata": {
        "colab": {
          "base_uri": "https://localhost:8080/"
        },
        "id": "HZI1xWfDR1Sb",
        "outputId": "82b18dd1-7301-4fd2-b22f-edd516108d53"
      },
      "execution_count": null,
      "outputs": [
        {
          "output_type": "stream",
          "name": "stdout",
          "text": [
            "{1, 2, 3, 4}\n"
          ]
        }
      ]
    },
    {
      "cell_type": "markdown",
      "source": [
        "#Immutable data cannot be changed after it is created. Any operation that seems to modify it actually creates a new object.\n",
        "\n",
        "\n",
        "\n",
        "\n",
        " Common Immutable Data Types (in Python):\n",
        "String\n",
        "\n",
        "Tuple\n",
        "\n",
        "Integer\n",
        "\n",
        "Float\n",
        "\n",
        "Boolean\n",
        "\n",
        "frozenset"
      ],
      "metadata": {
        "id": "WPw8fU1RSGOK"
      }
    },
    {
      "cell_type": "code",
      "source": [
        "#Tuple\n",
        "my_tuple = (1, 2, 3)\n",
        "new_tuple = my_tuple + (4,)  # Creating a new tuple\n",
        "print(new_tuple)  # Output: (1, 2, 3, 4)"
      ],
      "metadata": {
        "colab": {
          "base_uri": "https://localhost:8080/"
        },
        "id": "E-HJnFJcSUKi",
        "outputId": "9277b9bb-cac3-40d7-d0b2-c3b61d46cf75"
      },
      "execution_count": null,
      "outputs": [
        {
          "output_type": "stream",
          "name": "stdout",
          "text": [
            "(1, 2, 3, 4)\n"
          ]
        }
      ]
    },
    {
      "cell_type": "code",
      "source": [
        "#Integer\n",
        "my_int = 5\n",
        "new_int = my_int + 2  # Creating a new integer\n",
        "print(new_int)  # Output: 7\n"
      ],
      "metadata": {
        "colab": {
          "base_uri": "https://localhost:8080/"
        },
        "id": "RQjVT_CbSYv1",
        "outputId": "985de360-9059-482d-ff75-06d3e9261b6c"
      },
      "execution_count": null,
      "outputs": [
        {
          "output_type": "stream",
          "name": "stdout",
          "text": [
            "7\n"
          ]
        }
      ]
    },
    {
      "cell_type": "code",
      "source": [
        "#Float\n",
        "my_float = 3.14\n",
        "new_float = my_float * 2  # Creating a new float\n",
        "print(new_float)  # Output: 6.28\n"
      ],
      "metadata": {
        "colab": {
          "base_uri": "https://localhost:8080/"
        },
        "id": "HSDVB-80Sffg",
        "outputId": "dccb7ebd-3bfd-4116-c171-9f95bf5e0f42"
      },
      "execution_count": null,
      "outputs": [
        {
          "output_type": "stream",
          "name": "stdout",
          "text": [
            "6.28\n"
          ]
        }
      ]
    },
    {
      "cell_type": "code",
      "source": [
        "#Boolean\n",
        "my_bool = True\n",
        "new_bool = not my_bool  # Creating a new boolean\n",
        "print(new_bool)  # Output: False"
      ],
      "metadata": {
        "colab": {
          "base_uri": "https://localhost:8080/"
        },
        "id": "L3R9zXIRSkkP",
        "outputId": "4f9783a7-5980-4476-a221-9b4c8ef502cb"
      },
      "execution_count": null,
      "outputs": [
        {
          "output_type": "stream",
          "name": "stdout",
          "text": [
            "False\n"
          ]
        }
      ]
    },
    {
      "cell_type": "code",
      "source": [
        "#frozenset\n",
        "my_set = {1, 2, 3}\n",
        "new_set = frozenset(my_set)  # Creating a frozenset\n",
        "print(new_set)  # Output: frozenset({1, 2, 3})"
      ],
      "metadata": {
        "colab": {
          "base_uri": "https://localhost:8080/"
        },
        "id": "seC_LNxlSuDs",
        "outputId": "550b7458-9f68-46d2-a52b-7bf10e004f00"
      },
      "execution_count": null,
      "outputs": [
        {
          "output_type": "stream",
          "name": "stdout",
          "text": [
            "frozenset({1, 2, 3})\n"
          ]
        }
      ]
    },
    {
      "cell_type": "markdown",
      "source": [
        "3. # What are the main differences between lists and tuples in Python?\n",
        "  \n",
        "  - The main differences between lists and tuples in Python are:-\n",
        "\n",
        "    # List\n",
        "\n",
        "\n",
        "Mutable: Yes (can be changed)\n",
        "\n",
        "Syntax: Square brackets []\n",
        "\n",
        "Methods: Many (e.g., append(), remove(), pop())\n",
        "\n",
        "Performance: Slightly slower\n",
        "\n",
        "Use Case: When data needs to change (e.g., shopping cart)\n",
        "\n",
        "Dictionary Key: No (not hashable)\n",
        "\n",
        "\n",
        "   # Tuple\n",
        "Mutable: No (cannot be changed)\n",
        "\n",
        "Syntax: Parentheses ()\n",
        "\n",
        "Methods: Fewer (only count(), index())\n",
        "\n",
        "Performance: Slightly faster\n",
        "\n",
        "Use Case: When data should stay constant (e.g., coordinates)\n",
        "\n",
        "Dictionary Key: Yes (hashable)\n",
        "\n",
        "\n",
        " # Example of List And Truple"
      ],
      "metadata": {
        "id": "tfHhERAaS3Ln"
      }
    },
    {
      "cell_type": "code",
      "source": [
        "#list\n",
        "my_list = [1, 2, 3]\n",
        "my_list.append(4)  # Modifying the list\n",
        "print(my_list)  # Output: [1, 2, 3, 4]"
      ],
      "metadata": {
        "colab": {
          "base_uri": "https://localhost:8080/"
        },
        "id": "fJnGFSduUzO3",
        "outputId": "57d3b5e7-3852-45bb-ab7a-ee21ecf6adfd"
      },
      "execution_count": null,
      "outputs": [
        {
          "output_type": "stream",
          "name": "stdout",
          "text": [
            "[1, 2, 3, 4]\n"
          ]
        }
      ]
    },
    {
      "cell_type": "code",
      "source": [
        "#truple\n",
        "my_tuple = (1, 2, 3)\n",
        "new_tuple = my_tuple + (4,)  # Creating a new tuple\n",
        "print(new_tuple)  # Output: (1, 2, 3, 4)"
      ],
      "metadata": {
        "colab": {
          "base_uri": "https://localhost:8080/"
        },
        "id": "nIkkZqUZU1eD",
        "outputId": "f97e7b8e-1277-4f20-c694-c8f9f543a275"
      },
      "execution_count": null,
      "outputs": [
        {
          "output_type": "stream",
          "name": "stdout",
          "text": [
            "(1, 2, 3, 4)\n"
          ]
        }
      ]
    },
    {
      "cell_type": "markdown",
      "source": [
        "4. # Describe how dictionaries store data.\n",
        "\n",
        "  - A dictionary in Python stores data as key-value pairs. Think of it like a real-world dictionary: you look up a word (key) to get its definition (value).\n",
        "\n",
        "  Example"
      ],
      "metadata": {
        "id": "rWZ6chZbU9eI"
      }
    },
    {
      "cell_type": "code",
      "source": [
        "#dictionary\n",
        "my_dict = {'a': 1, 'b': 2, 'c': 3}\n",
        "value = my_dict['b']  # Accessing a value using a key\n",
        "print(value)  # Output: 2\n"
      ],
      "metadata": {
        "colab": {
          "base_uri": "https://localhost:8080/"
        },
        "id": "7IXxon0ZVaMu",
        "outputId": "2abde74d-c1aa-4d83-8e7c-acbc661235b9"
      },
      "execution_count": null,
      "outputs": [
        {
          "output_type": "stream",
          "name": "stdout",
          "text": [
            "2\n"
          ]
        }
      ]
    },
    {
      "cell_type": "markdown",
      "source": [
        "5. # Why might you use a set instead of a list in Python?\n",
        "\n",
        "  - A set is often used instead of a list when you need unique elements and fast lookups. Here's why:\n",
        "\n",
        "\n",
        "\n",
        "# List\n",
        " Allows duplicates\n",
        "\n",
        " Maintains order\n",
        "\n",
        " Supports indexing\n",
        "\n",
        " Slower lookups (O(n))\n",
        "\n",
        " Use when order and duplicates matter\n",
        "\n",
        "\n",
        "\n",
        "# Set\n",
        " No duplicates allowed (automatically removes them)\n",
        "\n",
        " No specific order\n",
        "\n",
        " No indexing\n",
        "\n",
        " Very fast lookups (O(1))\n",
        "\n",
        " Ideal for checking membership\n",
        "\n",
        " Great for removing duplicates from a list\n",
        "\n",
        " Supports set operations (union, intersection, difference)\n",
        "\n",
        "\n"
      ],
      "metadata": {
        "id": "yehi9HfEVmTD"
      }
    },
    {
      "cell_type": "markdown",
      "source": [
        "6. #  What is a string in Python, and how is it different from a list?\n",
        "\n",
        " - A string in Python is a sequence of characters enclosed within single (') or double (\") quotes. It is an immutable data type, which means once a string is created, it cannot be changed.\n",
        "\n",
        "     . Diffrence between String and List\n",
        "\n",
        "     # String (str)\n",
        "\n",
        "\n",
        "Type: Immutable (cannot be changed)\n",
        "\n",
        "Contains: Sequence of characters (text)\n",
        "\n",
        "Syntax: Enclosed in quotes (' or \")\n",
        "\n",
        "Indexing:  Yes, strings can be indexed (my_string[0])\n",
        "\n",
        "Modifiable?: No (cannot change individual characters)\n",
        "\n",
        "Methods: String methods like .upper(), .lower()\n",
        "\n",
        "Can contain other types?:  Only characters (text)\n",
        "\n",
        "Use Case: When working with text or characters\n",
        "\n",
        "\n",
        "\n",
        "\n",
        "\n",
        "# List (list)\n",
        "\n",
        "\n",
        "Type: Mutable (can be modified)\n",
        "\n",
        "Contains: Can contain any type of data (numbers, strings, objects, etc.)\n",
        "\n",
        "Syntax: Enclosed in square brackets ([])\n",
        "\n",
        "Indexing: Yes, lists can be indexed (my_list[0])\n",
        "\n",
        "Modifiable?:  Yes (add, remove, or change elements)\n",
        "\n",
        "Methods: List methods like .append(), .remove()\n",
        "\n",
        "Can contain other types?: Yes, lists can contain any data type\n",
        "\n",
        "Use Case: When working with ordered collections of items\n",
        "\n",
        "\n",
        "(This is the defination of String and List)\n",
        "\n",
        "\n",
        "Example"
      ],
      "metadata": {
        "id": "-QArQQCAYSy0"
      }
    },
    {
      "cell_type": "code",
      "source": [
        "#string\n",
        "my_string = \"Hello, World!\"\n",
        "new_string = my_string.upper()  # Creating a new string\n",
        "print(new_string)  # Output: \"HELLO, WORLD!\"\n"
      ],
      "metadata": {
        "colab": {
          "base_uri": "https://localhost:8080/"
        },
        "id": "FzkNjX5wakqp",
        "outputId": "49b1022b-37f8-499f-ed11-ee880f8dfe42"
      },
      "execution_count": null,
      "outputs": [
        {
          "output_type": "stream",
          "name": "stdout",
          "text": [
            "HELLO, WORLD!\n"
          ]
        }
      ]
    },
    {
      "cell_type": "code",
      "source": [
        "#list\n",
        "my_list = [1, 2, 3]\n",
        "my_list.append(4)  # Modifying the list\n",
        "print(my_list)  # Output: [1, 2, 3, 4]"
      ],
      "metadata": {
        "colab": {
          "base_uri": "https://localhost:8080/"
        },
        "id": "JzrnrLhWapsh",
        "outputId": "9b3426f2-a286-46c6-8318-b170774fa703"
      },
      "execution_count": null,
      "outputs": [
        {
          "output_type": "stream",
          "name": "stdout",
          "text": [
            "[1, 2, 3, 4]\n"
          ]
        }
      ]
    },
    {
      "cell_type": "markdown",
      "source": [
        "7. # How do tuples ensure data integrity in Python?\n",
        "\n",
        "  - Tuples are a powerful data structure in Python because they are immutable, meaning once created, their data cannot be changed. This immutability ensures data integrity in several ways\n",
        "\n",
        "  Key Ways Tuples Ensure Data Integrity:\n",
        "(a) Prevents Accidental Modification:\n",
        "\n",
        "Since you can't change a tuple once it's created (i.e., you cannot modify, add, or remove elements), you guarantee that the data remains intact throughout the program.\n",
        "\n",
        "(b) Data Consistency:\n",
        "\n",
        "If you use a tuple to represent fixed collections of values, you can be sure that the data you set initially will not be altered later in the code.\n",
        "\n",
        "(c)Safe for Use as Dictionary Keys:\n",
        "\n",
        "Because tuples are hashable (immutable), they can be used as keys in a dictionary, whereas mutable data types like lists cannot. This allows you to store important, unchangeable information in a dictionary without the risk of it being accidentally modified.\n",
        "\n",
        "(d) Thread Safety:\n",
        "\n",
        "In multi-threaded applications, the immutability of tuples means they are thread-safe. Multiple threads can share the same tuple without the risk of one thread modifying it, leading to unexpected behavior or data corruption\n",
        "\n",
        "\n",
        "(e) Helps in Data Integrity Checks:\n",
        "\n",
        "Since the elements inside a tuple cannot change, you can rely on the tuple's content to remain consistent for integrity checks, comparisons, and other operations that require unchanged data.\n",
        "\n"
      ],
      "metadata": {
        "id": "4iSK3x14atmZ"
      }
    },
    {
      "cell_type": "markdown",
      "source": [
        "8. # What is a hash table, and how does it relate to dictionaries in Python?\n",
        "\n",
        " - A hash table is a data structure that stores key-value pairs. It allows for fast data retrieval, typically in constant time\n",
        "𝑂\n",
        "(\n",
        "1\n",
        ")\n",
        "O(1), by using a process called hashing.\n",
        "\n",
        "# How a Hash Table Works:\n",
        "\n",
        "(a) Hashing: A hash function takes a key and computes an index (a number) in an internal array.\n",
        "\n",
        "(b) Storing: The value is stored at the computed index.\n",
        "\n",
        "(c) Retrieving: To get the value, the same hash function is used on the key to find the index, then the value is retrieved from that index.\n",
        "\n",
        "# Collision Handling:\n",
        "Sometimes, different keys can hash to the same index (called a collision). Common ways to handle this include:\n",
        "\n",
        "Chaining: Store multiple values in a list at that index.\n",
        "\n",
        "Open Addressing: Find another empty spot based on a probing sequence.\n",
        "\n",
        "\n",
        "  # That comparison table is a great summary of the relationship between a generic hash table and Python’s dict.\n",
        "\n",
        "\n",
        "  # Keys\n",
        "Hash Table: Any hashable object\n",
        "\n",
        "Python dict: Any hashable object (e.g., str, int, tuple)\n",
        "\n",
        "# Values\n",
        "Hash Table: Any data\n",
        "\n",
        "Python dict: Any data\n",
        "\n",
        "# Hash Function\n",
        "Hash Table: Custom or language-defined\n",
        "\n",
        "Python dict: Python's built-in __hash__() method\n",
        "\n",
        "# Performance\n",
        "Hash Table: O(1) average-case\n",
        "\n",
        "Python dict: O(1) average-case for lookup, insert, and delete\n",
        "\n",
        "\n",
        "Example.\n",
        "\n",
        "\n",
        "\n"
      ],
      "metadata": {
        "id": "CD6eJL3wc-PY"
      }
    },
    {
      "cell_type": "code",
      "source": [
        "# Python dict usage\n",
        "my_dict = {'apple': 3, 'banana': 5}\n",
        "\n",
        "# Behind the scenes:\n",
        "# - 'apple' is hashed to some index, say 42\n",
        "# - Value 3 is stored at index 42 in the hash table\n",
        "\n"
      ],
      "metadata": {
        "id": "hzB9mK0qfJUb"
      },
      "execution_count": null,
      "outputs": []
    },
    {
      "cell_type": "markdown",
      "source": [
        "9. #  Can lists contain different data types in Python?\n",
        "\n",
        " - Python lists are heterogeneous, which means you can store a mix of data types in the same list.\n",
        "  \n",
        "  Example."
      ],
      "metadata": {
        "id": "3yBHCvnCfbXu"
      }
    },
    {
      "cell_type": "code",
      "source": [
        "my_list = [42, \"hello\", 3.14, True, [1, 2], {\"key\": \"value\"}]\n"
      ],
      "metadata": {
        "id": "6K774u1HgKD0"
      },
      "execution_count": null,
      "outputs": []
    },
    {
      "cell_type": "markdown",
      "source": [
        "# In this list, you have:\n",
        "\n",
        "An int: 42\n",
        "\n",
        "A str: \"hello\"\n",
        "\n",
        "A float: 3.14\n",
        "\n",
        "A bool: True\n",
        "\n",
        "A list: [1, 2]\n",
        "\n",
        "A dict: {\"key\": \"value\"}\n",
        "\n",
        "Python doesn't require you to declare a specific data type for a list, which makes it very flexible — though in some situations (like large-scale numerical computing), sticking to a single data type can be more efficient."
      ],
      "metadata": {
        "id": "wJUFVpuEgqv3"
      }
    },
    {
      "cell_type": "markdown",
      "source": [
        "10. # Explain why strings are immutable in Python.\n",
        "\n",
        " - When we say strings are immutable, it means that once a string is created, it cannot be changed. Any operation that seems to change a string actually creates a new string object.\n",
        "\n",
        " Example"
      ],
      "metadata": {
        "id": "1JYDeTTBg1bQ"
      }
    },
    {
      "cell_type": "code",
      "source": [
        "s = \"hello\"\n",
        "s = s + \" world\"\n",
        "print(s)  # Output: \"hello world\"\n",
        "#Here, Python didn't modify \"hello\" — it created a new string \"hello world\" and re-assigned s to it.\n",
        "\n"
      ],
      "metadata": {
        "colab": {
          "base_uri": "https://localhost:8080/"
        },
        "id": "a9IwCOxMha7e",
        "outputId": "9a06f494-07ca-4990-ee5d-16ee46410b09"
      },
      "execution_count": null,
      "outputs": [
        {
          "output_type": "stream",
          "name": "stdout",
          "text": [
            "hello world\n"
          ]
        }
      ]
    },
    {
      "cell_type": "markdown",
      "source": [
        "11. # What advantages do dictionaries offer over lists for certain tasks?\n",
        "\n",
        " - Dictionaries offer several key advantages over lists for certain tasks, especially when dealing with structured data or when fast lookups are important. Here are the main benefits:\n",
        "\n",
        "\n",
        "\n",
        "  (a).  Fast Lookup by Key\n",
        "\n",
        "\n",
        "\n",
        "\n",
        "Dictionaries: Provide O(1) average-time complexity for accessing values using keys.\n",
        "\n",
        "Lists: Require O(n) time to search for a value.\n",
        "\n",
        " Use case: When you need to frequently look up data by a specific identifier (like a name, ID, or key), dictionaries are far more efficient.\n",
        "\n",
        "\n",
        "\n",
        " (b). Key-Value Pair Structure\n",
        "\n",
        "\n",
        "Dictionaries store data as {key: value}, making the relationship between elements explicit.\n",
        "\n",
        "Lists store data sequentially, so relationships are usually implied by position.\n",
        "\n",
        " Use case: Ideal for storing and accessing structured or labeled data, such as user profiles ({\"name\": \"Alice\", \"age\": 30}).\n",
        "\n",
        "(c). No Need to Know Position\n",
        "\n",
        "\n",
        "With dictionaries, you don’t need to remember the position/index of a value.\n",
        "\n",
        "With lists, you must know the index to retrieve a specific item.\n",
        "\n",
        " Use case: Managing settings, configurations, or user data where keys describe the data.\n",
        "\n",
        "(d). Avoids Duplicates in Keys\n",
        "Dictionary keys are unique, which helps enforce uniqueness in data.\n",
        "\n",
        "Lists can contain duplicate elements, which may require extra logic to manage.\n",
        "\n",
        " Use case: Keeping a set of unique items with associated data, like inventory items with quantities.\n",
        "\n",
        "(e). Flexible Data Representation\n",
        "\n",
        "\n",
        "Dictionaries can naturally represent more complex data structures (e.g., nested dictionaries, JSON-like data).\n",
        "\n",
        "Lists are better for ordered collections but can be harder to use for structured data.\n",
        "\n",
        "\n",
        "\n",
        "\n",
        "\n",
        "\n"
      ],
      "metadata": {
        "id": "jfCwgq6mhhcl"
      }
    },
    {
      "cell_type": "markdown",
      "source": [
        "12. #  Describe a scenario where using a tuple would be preferable over a list.\n",
        "\n",
        " - A tuple is preferable over a list when you want to store a collection of values that should not change (i.e., they are immutable) and where data integrity and performance are important. Here's a common scenario:\n",
        "\n",
        "Scenario: Returning Multiple Values from a Function\n",
        "Suppose you have a function that needs to return multiple pieces of data, such as the result of a calculation and a status message:"
      ],
      "metadata": {
        "id": "gcvOo_SpGosi"
      }
    },
    {
      "cell_type": "code",
      "source": [
        "def divide(a, b):\n",
        "    if b == 0:\n",
        "        return (None, \"Error: Division by zero\")\n",
        "    else:\n",
        "        return (a / b, \"Success\")\n"
      ],
      "metadata": {
        "id": "1qyvy88zHPOM"
      },
      "execution_count": null,
      "outputs": []
    },
    {
      "cell_type": "markdown",
      "source": [
        "In this case, a tuple is a better choice than a list because:\n",
        "\n",
        "\n",
        ". The structure and meaning of the returned values are fixed (first item = result, second item = status).\n",
        "\n",
        ". You don’t need to modify the contents afterward.\n",
        "\n",
        ". Tuples are slightly more efficient than lists in terms of memory and performance.\n",
        "\n",
        ".Using a tuple emphasizes that the returned data is meant to be unpacked and used as a group, not modified.\n",
        "\n"
      ],
      "metadata": {
        "id": "N3L8HRlIHn56"
      }
    },
    {
      "cell_type": "markdown",
      "source": [
        "13. # How do sets handle duplicate values in Python?\n",
        "\n",
        " - In Python, sets automatically remove duplicate values. When you add elements to a set, any duplicate entries are ignored because sets are unordered collections of unique elements.\n",
        "\n",
        "\n",
        " Example -"
      ],
      "metadata": {
        "id": "TkMCHBCEH9Hc"
      }
    },
    {
      "cell_type": "code",
      "source": [
        "my_set = {1, 2, 2, 3, 4, 4, 4, 5}\n",
        "print(my_set)\n"
      ],
      "metadata": {
        "colab": {
          "base_uri": "https://localhost:8080/"
        },
        "id": "2o_FKe5kI5L5",
        "outputId": "559739b3-38b5-433b-c348-57d6034031e6"
      },
      "execution_count": null,
      "outputs": [
        {
          "output_type": "stream",
          "name": "stdout",
          "text": [
            "{1, 2, 3, 4, 5}\n"
          ]
        }
      ]
    },
    {
      "cell_type": "markdown",
      "source": [
        "14. # How does the “in” keyword work differently for lists and dictionaries?\n",
        "\n",
        " - The in keyword is used for membership testing in both lists and dictionaries, but it behaves a bit differently in each:\n",
        "\n",
        "\n",
        "\n",
        "\n",
        "# For List"
      ],
      "metadata": {
        "id": "Ibj7-H5ZJevY"
      }
    },
    {
      "cell_type": "code",
      "source": [
        "#The in keyword checks whether a value exists in the list.\n",
        "my_list = [1, 2, 3, 4]\n",
        "\n",
        "print(2 in my_list)    # True\n",
        "print(5 in my_list)    # False\n"
      ],
      "metadata": {
        "colab": {
          "base_uri": "https://localhost:8080/"
        },
        "id": "3DVKNpbrKxOG",
        "outputId": "4cf79e0c-65bf-4be7-f00e-0f8e6443d770"
      },
      "execution_count": null,
      "outputs": [
        {
          "output_type": "stream",
          "name": "stdout",
          "text": [
            "True\n",
            "False\n"
          ]
        }
      ]
    },
    {
      "cell_type": "code",
      "source": [
        "#For Dictionaries:\n",
        "#The in keyword checks whether a key exists in the dictionary — not the value.\n",
        "my_dict = {'a': 1, 'b': 2}\n",
        "\n",
        "print('a' in my_dict)     # True  (key)\n",
        "print(1 in my_dict)       # False (value, not key)\n"
      ],
      "metadata": {
        "colab": {
          "base_uri": "https://localhost:8080/"
        },
        "id": "cadG2pipK32N",
        "outputId": "d8600142-c5d3-49e3-a99f-384b8c8411d1"
      },
      "execution_count": null,
      "outputs": [
        {
          "output_type": "stream",
          "name": "stdout",
          "text": [
            "True\n",
            "False\n"
          ]
        }
      ]
    },
    {
      "cell_type": "markdown",
      "source": [
        "15. #  Can you modify the elements of a tuple? Explain why or why not.\n",
        "\n",
        " - you cannot modify the elements of a tuple directly — and that's by design.\n",
        "\n",
        " # Why?\n",
        "Tuples in Python are immutable, meaning once a tuple is created, its contents cannot be changed. This includes:\n",
        "\n",
        "No adding elements\n",
        "\n",
        "No removing elements\n",
        "\n",
        "No changing elements\n",
        "\n",
        "Example.\n"
      ],
      "metadata": {
        "id": "xyNf6_SaLIiQ"
      }
    },
    {
      "cell_type": "code",
      "source": [
        "my_tuple = (1, 2, 3)\n",
        "my_tuple[0] = 10  # ❌ This will raise a TypeError\n"
      ],
      "metadata": {
        "colab": {
          "base_uri": "https://localhost:8080/",
          "height": 158
        },
        "id": "F5R17714LuQU",
        "outputId": "ed57c404-1d3f-436a-827a-702b83ce26ea"
      },
      "execution_count": null,
      "outputs": [
        {
          "output_type": "error",
          "ename": "TypeError",
          "evalue": "'tuple' object does not support item assignment",
          "traceback": [
            "\u001b[0;31m---------------------------------------------------------------------------\u001b[0m",
            "\u001b[0;31mTypeError\u001b[0m                                 Traceback (most recent call last)",
            "\u001b[0;32m<ipython-input-4-ee63248a29aa>\u001b[0m in \u001b[0;36m<cell line: 0>\u001b[0;34m()\u001b[0m\n\u001b[1;32m      1\u001b[0m \u001b[0mmy_tuple\u001b[0m \u001b[0;34m=\u001b[0m \u001b[0;34m(\u001b[0m\u001b[0;36m1\u001b[0m\u001b[0;34m,\u001b[0m \u001b[0;36m2\u001b[0m\u001b[0;34m,\u001b[0m \u001b[0;36m3\u001b[0m\u001b[0;34m)\u001b[0m\u001b[0;34m\u001b[0m\u001b[0;34m\u001b[0m\u001b[0m\n\u001b[0;32m----> 2\u001b[0;31m \u001b[0mmy_tuple\u001b[0m\u001b[0;34m[\u001b[0m\u001b[0;36m0\u001b[0m\u001b[0;34m]\u001b[0m \u001b[0;34m=\u001b[0m \u001b[0;36m10\u001b[0m  \u001b[0;31m# ❌ This will raise a TypeError\u001b[0m\u001b[0;34m\u001b[0m\u001b[0;34m\u001b[0m\u001b[0m\n\u001b[0m",
            "\u001b[0;31mTypeError\u001b[0m: 'tuple' object does not support item assignment"
          ]
        }
      ]
    },
    {
      "cell_type": "markdown",
      "source": [
        "# However...\n",
        "If a tuple contains mutable objects (like lists), those objects can be modified — but the tuple itself still points to the same object.\n",
        "\n",
        "\n",
        "Example"
      ],
      "metadata": {
        "id": "x8HXYOizL2EI"
      }
    },
    {
      "cell_type": "code",
      "source": [
        "my_tuple = ([1, 2], 3)\n",
        "my_tuple[0].append(99)\n",
        "print(my_tuple)  # ([1, 2, 99], 3)\n",
        "#You're not changing the tuple's structure, just mutating an object inside it.\n",
        "\n"
      ],
      "metadata": {
        "colab": {
          "base_uri": "https://localhost:8080/"
        },
        "id": "XjXNmp2RL7c4",
        "outputId": "12a3affc-47c2-4ce4-cf64-db319e161f28"
      },
      "execution_count": null,
      "outputs": [
        {
          "output_type": "stream",
          "name": "stdout",
          "text": [
            "([1, 2, 99], 3)\n"
          ]
        }
      ]
    },
    {
      "cell_type": "markdown",
      "source": [
        "16. # What is a nested dictionary, and give an example of its use case?\n",
        "\n",
        " - A nested dictionary in Python is a dictionary inside another dictionary — like a mini-database. It’s a way to organize data hierarchically or in multiple levels.\n",
        "\n",
        "\n",
        " Example."
      ],
      "metadata": {
        "id": "ZIzK6cG7MBIP"
      }
    },
    {
      "cell_type": "code",
      "source": [
        "students = {\n",
        "    \"Alice\": {\n",
        "        \"age\": 20,\n",
        "        \"major\": \"Computer Science\",\n",
        "        \"grades\": {\"math\": 90, \"cs\": 95}\n",
        "    },\n",
        "    \"Bob\": {\n",
        "        \"age\": 22,\n",
        "        \"major\": \"Biology\",\n",
        "        \"grades\": {\"bio\": 88, \"chem\": 84}\n",
        "    }\n",
        "}\n",
        "#This is a nested dictionary where each student name maps to another dictionary with their info.\n",
        "\n"
      ],
      "metadata": {
        "id": "UUPv-ecdMrxM"
      },
      "execution_count": null,
      "outputs": []
    },
    {
      "cell_type": "markdown",
      "source": [
        "17. # Describe the time complexity of accessing elements in a dictionary.\n",
        "\n",
        " - Accessing elements in a dictionary in Python has an average-case time complexity of O(1) — also known as constant time. That means no matter how big the dictionary is, looking up a value by its key is typically super fast.\n",
        "\n",
        "\n",
        " Example."
      ],
      "metadata": {
        "id": "wESXy7p_M6bF"
      }
    },
    {
      "cell_type": "code",
      "source": [
        "my_dict = {'a': 1, 'b': 2, 'c': 3}\n",
        "value = my_dict['b']  # O(1) access\n",
        "#Python dictionaries use hash tables under the hood, which is why this operation is so efficient.\n",
        "\n"
      ],
      "metadata": {
        "id": "Z_8n1FSTNeFV"
      },
      "execution_count": null,
      "outputs": []
    },
    {
      "cell_type": "markdown",
      "source": [
        "18. # In what situations are lists preferred over dictionaries?\n",
        "\n",
        " - You’d prefer lists over dictionaries when you care about order, need sequential access, or don’t need key-value pairing. Here's a breakdown:\n",
        "\n",
        "#  Situations Where Lists Are Better Than Dictionaries:\n",
        "\n",
        "\n",
        "Order Matters\n",
        "Lists preserve the order of elements, which is great when the position of data is meaningful."
      ],
      "metadata": {
        "id": "fnkkwSfvNls5"
      }
    },
    {
      "cell_type": "code",
      "source": [
        "steps = [\"Turn on\", \"Heat up\", \"Stir\", \"Serve\"]\n"
      ],
      "metadata": {
        "id": "CBZS5QcjOIrf"
      },
      "execution_count": null,
      "outputs": []
    },
    {
      "cell_type": "code",
      "source": [
        "#Sequential Processing / Iteration\n",
        "#Lists are ideal when you’re going to loop through items one by one.\n",
        "#for item in shopping_list:\n",
        "    print(item)\n"
      ],
      "metadata": {
        "colab": {
          "base_uri": "https://localhost:8080/",
          "height": 106
        },
        "id": "PIgjP-R1ONB3",
        "outputId": "ff2c05d1-68dc-4b2e-d0d3-ab17c3d2d0a0"
      },
      "execution_count": null,
      "outputs": [
        {
          "output_type": "error",
          "ename": "IndentationError",
          "evalue": "unexpected indent (<ipython-input-10-ec3a1312ef5f>, line 4)",
          "traceback": [
            "\u001b[0;36m  File \u001b[0;32m\"<ipython-input-10-ec3a1312ef5f>\"\u001b[0;36m, line \u001b[0;32m4\u001b[0m\n\u001b[0;31m    print(item)\u001b[0m\n\u001b[0m    ^\u001b[0m\n\u001b[0;31mIndentationError\u001b[0m\u001b[0;31m:\u001b[0m unexpected indent\n"
          ]
        }
      ]
    },
    {
      "cell_type": "code",
      "source": [
        "#No Need for Key-Value Pairs\n",
        "#If you just need to store items (like numbers, names, etc.) without needing a label for each, a list is simpler.\n",
        "numbers = [10, 20, 30]  # vs {'first': 10, 'second': 20}\n"
      ],
      "metadata": {
        "id": "fjPby4bwOX6w"
      },
      "execution_count": null,
      "outputs": []
    },
    {
      "cell_type": "code",
      "source": [
        "#Index-Based Access\n",
        "#When you want to access elements by their position.\n",
        "print(my_list[0])  # First item\n"
      ],
      "metadata": {
        "colab": {
          "base_uri": "https://localhost:8080/"
        },
        "id": "8zniVJPIOnzC",
        "outputId": "44484cae-5aa8-4c1a-f92e-5cb3eed59c2a"
      },
      "execution_count": null,
      "outputs": [
        {
          "output_type": "stream",
          "name": "stdout",
          "text": [
            "1\n"
          ]
        }
      ]
    },
    {
      "cell_type": "markdown",
      "source": [
        "#Faster for Small, Simple Datasets\n",
        "Lists have slightly less overhead than dictionaries, making them better for lightweight storage."
      ],
      "metadata": {
        "id": "lNIJO-O5O5XL"
      }
    },
    {
      "cell_type": "markdown",
      "source": [
        "19. # Why are dictionaries considered unordered, and how does that affect data retrieval?\n",
        "\n",
        " - Why Were Dictionaries Traditionally Considered Unordered?\n",
        "\n",
        "\n",
        "Before Python 3.7, dictionaries were inherently unordered, meaning there was no guarantee that items would stay in the order you inserted them. This was because dictionaries focused solely on fast access via keys using hash tables, not on maintaining any specific order.\n",
        "\n",
        "\n",
        "\n",
        " - What Changed?\n",
        "\n",
        "Starting in Python 3.7, dictionaries preserve insertion order as an implementation detail — and it's now part of the language spec in Python 3.8+. So when you iterate over a dictionary, items come out in the order you added them.\n",
        "\n"
      ],
      "metadata": {
        "id": "6J9qCMUXO8Qj"
      }
    },
    {
      "cell_type": "code",
      "source": [
        "my_dict = {'a': 1, 'b': 2, 'c': 3}\n",
        "print(my_dict)  # Output: {'a': 1, 'b': 2, 'c': 3}\n",
        "\n",
        "#But! Even though they're ordered now for iteration, dictionaries are still not position-based like lists — you access data by key, not index.\n",
        "\n"
      ],
      "metadata": {
        "colab": {
          "base_uri": "https://localhost:8080/"
        },
        "id": "Lqnrw0A9Pknq",
        "outputId": "041c89a3-ab1b-4978-e195-9a7f23b8d78d"
      },
      "execution_count": null,
      "outputs": [
        {
          "output_type": "stream",
          "name": "stdout",
          "text": [
            "{'a': 1, 'b': 2, 'c': 3}\n"
          ]
        }
      ]
    },
    {
      "cell_type": "markdown",
      "source": [
        "How It Affects Data Retrieval:\n",
        "\n",
        "\n",
        " Access by key is still blazing fast: O(1)\n",
        "\n",
        " You can’t do this: my_dict[0] — there's no concept of index\n",
        "\n",
        " But you can iterate in insertion order:"
      ],
      "metadata": {
        "id": "u2e3EpTuP4_o"
      }
    },
    {
      "cell_type": "code",
      "source": [
        "for key in my_dict:\n",
        "    print(key, my_dict[key])  # Ordered as inserted\n"
      ],
      "metadata": {
        "colab": {
          "base_uri": "https://localhost:8080/"
        },
        "id": "8LawU0YQP9wl",
        "outputId": "ded61095-9e24-49bd-a00a-3c05d8a5bc5f"
      },
      "execution_count": null,
      "outputs": [
        {
          "output_type": "stream",
          "name": "stdout",
          "text": [
            "a 1\n",
            "b 2\n",
            "c 3\n"
          ]
        }
      ]
    },
    {
      "cell_type": "markdown",
      "source": [
        "20. #  Explain the difference between a list and a dictionary in terms of data retrieval.\n",
        "\n",
        " - The difference between a list and a dictionary in terms of data retrieval mainly comes down to how you access the data:\n",
        "\n",
        "\n",
        " - Lists:\n",
        "\n",
        "\n",
        "Access by Index: You retrieve data from a list based on its index (the position of the item in the list).\n",
        "\n",
        "Ordered: In Python (since 3.7), lists maintain insertion order, meaning the order you insert the items is preserved.\n",
        "\n",
        "Example of Data Retrieval from a List:\n"
      ],
      "metadata": {
        "id": "zLf_1mxmQBuO"
      }
    },
    {
      "cell_type": "code",
      "source": [
        "my_list = ['apple', 'banana', 'cherry']\n",
        "\n",
        "# Access by index\n",
        "print(my_list[1])  # Output: 'banana'\n",
        "#Time Complexity: Accessing an element by index in a list is O(1) (constant time), which is very fast.\n",
        "#Retrieval: You need to know the index to retrieve an item.\n",
        "\n"
      ],
      "metadata": {
        "colab": {
          "base_uri": "https://localhost:8080/"
        },
        "id": "B5iGcpDWQg5O",
        "outputId": "a684c7e2-1a17-4d3b-9044-d409eb4959b7"
      },
      "execution_count": null,
      "outputs": [
        {
          "output_type": "stream",
          "name": "stdout",
          "text": [
            "banana\n"
          ]
        }
      ]
    },
    {
      "cell_type": "markdown",
      "source": [
        "- Dictionaries:\n",
        "\n",
        "\n",
        "Access by Key: You retrieve data from a dictionary based on the key (which is a unique identifier for each item).\n",
        "\n",
        "Key-Value Pairs: A dictionary stores data in key-value pairs, where each key maps to a specific value.\n",
        "\n",
        "Ordered (Python 3.7+): While dictionaries preserve insertion order, the main feature is that they are optimized for fast access by key, not by position.\n",
        "\n",
        "Example of Data Retrieval from a Dictionary:"
      ],
      "metadata": {
        "id": "qhoBI_SCQuoP"
      }
    },
    {
      "cell_type": "code",
      "source": [
        "my_dict = {'name': 'Alice', 'age': 25, 'city': 'New York'}\n",
        "\n",
        "# Access by key\n",
        "print(my_dict['age'])  # Output: 25\n",
        "#Time Complexity: Accessing an element by key in a dictionary is also O(1) (constant time), thanks to the underlying hash table structure.\n",
        "#Retrieval: You need to know the key to retrieve a value.\n",
        "\n"
      ],
      "metadata": {
        "colab": {
          "base_uri": "https://localhost:8080/"
        },
        "id": "Qmw-LK30Q34L",
        "outputId": "6ff3844c-db6c-4f07-edb1-aee397df83bd"
      },
      "execution_count": null,
      "outputs": [
        {
          "output_type": "stream",
          "name": "stdout",
          "text": [
            "25\n"
          ]
        }
      ]
    },
    {
      "cell_type": "markdown",
      "source": [
        "# Practical Questions"
      ],
      "metadata": {
        "id": "T-ftCtZTREJL"
      }
    },
    {
      "cell_type": "markdown",
      "source": [
        "1. # Write a code to create a string with your name and print it.\n",
        "\n"
      ],
      "metadata": {
        "id": "II7imOZwRY_X"
      }
    },
    {
      "cell_type": "code",
      "source": [
        "print(\"My name is'Ritwik Kumar'\")\n"
      ],
      "metadata": {
        "colab": {
          "base_uri": "https://localhost:8080/"
        },
        "id": "okgyeNlzxtq5",
        "outputId": "e8b89759-c8e4-44e9-8836-903b3d2a1ad0"
      },
      "execution_count": null,
      "outputs": [
        {
          "output_type": "stream",
          "name": "stdout",
          "text": [
            "My name is'Ritwik Kumar'\n"
          ]
        }
      ]
    },
    {
      "cell_type": "markdown",
      "source": [
        "2. # Write a code to find the length of the string \"Hello World\"."
      ],
      "metadata": {
        "id": "FtyoAfMmyfTA"
      }
    },
    {
      "cell_type": "code",
      "source": [
        "# Define the string\n",
        "text = \"Hello World\"\n",
        "\n",
        "# Find and print the length\n",
        "print(len(text))\n"
      ],
      "metadata": {
        "colab": {
          "base_uri": "https://localhost:8080/"
        },
        "id": "HDBgMcZMyppJ",
        "outputId": "1d388988-4f7d-4fa0-df2b-26e71e838d4d"
      },
      "execution_count": null,
      "outputs": [
        {
          "output_type": "stream",
          "name": "stdout",
          "text": [
            "11\n"
          ]
        }
      ]
    },
    {
      "cell_type": "markdown",
      "source": [
        "3. # Write a code to slice the first 3 characters from the string \"Python Programming\"."
      ],
      "metadata": {
        "id": "RxGzYGTGys8K"
      }
    },
    {
      "cell_type": "code",
      "source": [
        "\n",
        "text = \"Python Programming\"\n",
        "sliced_text = text[:3]\n",
        "print(sliced_text)\n"
      ],
      "metadata": {
        "colab": {
          "base_uri": "https://localhost:8080/"
        },
        "id": "nA9G81Gmy0SD",
        "outputId": "22e7e593-c6ee-4112-81e8-58d43a2b7533"
      },
      "execution_count": null,
      "outputs": [
        {
          "output_type": "stream",
          "name": "stdout",
          "text": [
            "Pyt\n"
          ]
        }
      ]
    },
    {
      "cell_type": "markdown",
      "source": [
        "4. # Write a code to convert the string \"hello\" to uppercase."
      ],
      "metadata": {
        "id": "fLo3IaJDzJMj"
      }
    },
    {
      "cell_type": "code",
      "source": [
        "text = \"hello\"\n",
        "uppercase_text = text.upper()\n",
        "print(uppercase_text)"
      ],
      "metadata": {
        "colab": {
          "base_uri": "https://localhost:8080/"
        },
        "id": "SiP-75BNzQ-Z",
        "outputId": "d3090f95-4f39-4c2b-96bb-45c875de9fc6"
      },
      "execution_count": null,
      "outputs": [
        {
          "output_type": "stream",
          "name": "stdout",
          "text": [
            "HELLO\n"
          ]
        }
      ]
    },
    {
      "cell_type": "markdown",
      "source": [
        "5. # Write a code to replace the word \"apple\" with \"orange\" in the string \"I like apple\"."
      ],
      "metadata": {
        "id": "iYzNVfkb0HP4"
      }
    },
    {
      "cell_type": "code",
      "source": [
        "text = \"I like apple\"\n",
        "new_text = text.replace(\"apple\", \"orange\")\n",
        "print(new_text)\n"
      ],
      "metadata": {
        "colab": {
          "base_uri": "https://localhost:8080/"
        },
        "id": "WIDEVrGp0OKY",
        "outputId": "3a2b7272-8d5d-4e68-d97d-9452876a1b8a"
      },
      "execution_count": null,
      "outputs": [
        {
          "output_type": "stream",
          "name": "stdout",
          "text": [
            "I like orange\n"
          ]
        }
      ]
    },
    {
      "cell_type": "markdown",
      "source": [
        "6. # Write a code to create a list with numbers 1 to 5 and print it."
      ],
      "metadata": {
        "id": "AB31HdEz0bnE"
      }
    },
    {
      "cell_type": "code",
      "source": [
        "numbers = [1, 2, 3, 4, 5]\n",
        "print(numbers)\n"
      ],
      "metadata": {
        "colab": {
          "base_uri": "https://localhost:8080/"
        },
        "id": "uwrm2ByK0jGs",
        "outputId": "37e16144-8071-485e-ba00-8487ec135530"
      },
      "execution_count": null,
      "outputs": [
        {
          "output_type": "stream",
          "name": "stdout",
          "text": [
            "[1, 2, 3, 4, 5]\n"
          ]
        }
      ]
    },
    {
      "cell_type": "markdown",
      "source": [
        "7. # Write a code to append the number 10 to the list [1, 2, 3, 4]."
      ],
      "metadata": {
        "id": "L3eEFCvG0qZ3"
      }
    },
    {
      "cell_type": "code",
      "source": [
        "numbers = [1, 2, 3, 4]\n",
        "numbers.append(10)\n",
        "print(numbers)\n"
      ],
      "metadata": {
        "colab": {
          "base_uri": "https://localhost:8080/"
        },
        "id": "hnFl-70D0wwP",
        "outputId": "6a6db7d2-0db2-4552-b877-f2b2435c3a48"
      },
      "execution_count": null,
      "outputs": [
        {
          "output_type": "stream",
          "name": "stdout",
          "text": [
            "[1, 2, 3, 4, 10]\n"
          ]
        }
      ]
    },
    {
      "cell_type": "markdown",
      "source": [
        "8. # Write a code to remove the number 3 from the list [1, 2, 3, 4, 5]."
      ],
      "metadata": {
        "id": "sPQkY_y3039T"
      }
    },
    {
      "cell_type": "code",
      "source": [
        "numbers = [1, 2, 3, 4, 5]\n",
        "numbers.remove(3)\n",
        "print(numbers)"
      ],
      "metadata": {
        "colab": {
          "base_uri": "https://localhost:8080/"
        },
        "id": "lhtaqaFj1Mxb",
        "outputId": "29bf6ced-b8fd-4eba-b5da-d03b34b2a8ab"
      },
      "execution_count": null,
      "outputs": [
        {
          "output_type": "stream",
          "name": "stdout",
          "text": [
            "[1, 2, 4, 5]\n"
          ]
        }
      ]
    },
    {
      "cell_type": "markdown",
      "source": [
        "9. # Write a code to access the second element in the list ['a', 'b', 'c', 'd']."
      ],
      "metadata": {
        "id": "b6_OydGk1kUk"
      }
    },
    {
      "cell_type": "code",
      "source": [
        "my_list = ['a', 'b', 'c', 'd']\n",
        "second_element = my_list[1]\n",
        "print(second_element)\n"
      ],
      "metadata": {
        "colab": {
          "base_uri": "https://localhost:8080/"
        },
        "id": "_OkRDUT81qar",
        "outputId": "2d9be51a-39a8-4c1c-d543-778304583219"
      },
      "execution_count": null,
      "outputs": [
        {
          "output_type": "stream",
          "name": "stdout",
          "text": [
            "b\n"
          ]
        }
      ]
    },
    {
      "cell_type": "markdown",
      "source": [
        "10. # Write a code to reverse the list [10, 20, 30, 40, 50]."
      ],
      "metadata": {
        "id": "pNcev_qn19LE"
      }
    },
    {
      "cell_type": "code",
      "source": [
        "my_list = [10, 20, 30, 40, 50]\n",
        "reversed_list = my_list[::-1]\n",
        "print(reversed_list)\n"
      ],
      "metadata": {
        "colab": {
          "base_uri": "https://localhost:8080/"
        },
        "id": "hf-LGTu32CGG",
        "outputId": "bef194a6-c569-42e9-f476-368d0e78d7a8"
      },
      "execution_count": null,
      "outputs": [
        {
          "output_type": "stream",
          "name": "stdout",
          "text": [
            "[50, 40, 30, 20, 10]\n"
          ]
        }
      ]
    },
    {
      "cell_type": "markdown",
      "source": [
        "11. # Write a code to create a tuple with the elements 100, 200, 300 and print it."
      ],
      "metadata": {
        "id": "vYxlm5of2HHK"
      }
    },
    {
      "cell_type": "code",
      "source": [
        "# Creating a tuple\n",
        "my_tuple = (100, 200, 300)\n",
        "\n",
        "# Printing the tuple\n",
        "print(my_tuple)\n"
      ],
      "metadata": {
        "colab": {
          "base_uri": "https://localhost:8080/"
        },
        "id": "lQGF3pNw2ZIb",
        "outputId": "66b1612a-9a78-42f0-bef2-eb71a069f2cc"
      },
      "execution_count": null,
      "outputs": [
        {
          "output_type": "stream",
          "name": "stdout",
          "text": [
            "(100, 200, 300)\n"
          ]
        }
      ]
    },
    {
      "cell_type": "markdown",
      "source": [
        "12. # Write a code to access the second-to-last element of the tuple ('red', 'green', 'blue', 'yellow')."
      ],
      "metadata": {
        "id": "8awxhvTd2lEm"
      }
    },
    {
      "cell_type": "code",
      "source": [
        "\n",
        "colors = ('red', 'green', 'blue', 'yellow')\n",
        "second_to_last = colors[-2]\n",
        "print(second_to_last)\n"
      ],
      "metadata": {
        "colab": {
          "base_uri": "https://localhost:8080/"
        },
        "id": "SiqHUySP2w4F",
        "outputId": "56486125-0f09-44d3-f923-412380e865bc"
      },
      "execution_count": null,
      "outputs": [
        {
          "output_type": "stream",
          "name": "stdout",
          "text": [
            "blue\n"
          ]
        }
      ]
    },
    {
      "cell_type": "markdown",
      "source": [
        "13. # Write a code to find the minimum number in the tuple (10, 20, 5, 15)."
      ],
      "metadata": {
        "id": "P3Ob4Ce42-nR"
      }
    },
    {
      "cell_type": "code",
      "source": [
        "\n",
        "numbers = (10, 20, 5, 15)\n",
        "min_number = min(numbers)\n",
        "print(min_number)\n"
      ],
      "metadata": {
        "colab": {
          "base_uri": "https://localhost:8080/"
        },
        "id": "Itp8T1hk3PLH",
        "outputId": "af3455c5-9687-44f4-f040-85984b054992"
      },
      "execution_count": null,
      "outputs": [
        {
          "output_type": "stream",
          "name": "stdout",
          "text": [
            "5\n"
          ]
        }
      ]
    },
    {
      "cell_type": "markdown",
      "source": [
        "14. # Write a code to find the index of the element \"cat\" in the tuple ('dog', 'cat', 'rabbit')."
      ],
      "metadata": {
        "id": "nz04blYO3XuX"
      }
    },
    {
      "cell_type": "code",
      "source": [
        "\n",
        "animals = ('dog', 'cat', 'rabbit')\n",
        "cat_index = animals.index('cat')\n",
        "print(cat_index)\n"
      ],
      "metadata": {
        "colab": {
          "base_uri": "https://localhost:8080/"
        },
        "id": "h0tnHaaj3dXb",
        "outputId": "b39fef7d-5414-4761-f49e-19d699dc4463"
      },
      "execution_count": null,
      "outputs": [
        {
          "output_type": "stream",
          "name": "stdout",
          "text": [
            "1\n"
          ]
        }
      ]
    },
    {
      "cell_type": "markdown",
      "source": [
        "15. # Write a code to create a tuple containing three different fruits and check if \"kiwi\" is in it."
      ],
      "metadata": {
        "id": "cCuAbLeC3tuF"
      }
    },
    {
      "cell_type": "code",
      "source": [
        "\n",
        "fruits = ('apple', 'banana', 'orange')\n",
        "if 'kiwi' in fruits:\n",
        "    print(\"Kiwi is in the tuple.\")\n",
        "else:\n",
        "    print(\"Kiwi is not in the tuple.\")\n"
      ],
      "metadata": {
        "colab": {
          "base_uri": "https://localhost:8080/"
        },
        "id": "N3GX33nT34qV",
        "outputId": "d23889ba-6bc9-4d27-bf82-85b5d31baa1b"
      },
      "execution_count": null,
      "outputs": [
        {
          "output_type": "stream",
          "name": "stdout",
          "text": [
            "Kiwi is not in the tuple.\n"
          ]
        }
      ]
    },
    {
      "cell_type": "markdown",
      "source": [
        "16. # Write a code to create a set with the elements 'a', 'b', 'c' and print it."
      ],
      "metadata": {
        "id": "V7Y84Syq4BTO"
      }
    },
    {
      "cell_type": "code",
      "source": [
        "\n",
        "my_set = {'a', 'b', 'c'}\n",
        "print(my_set)\n"
      ],
      "metadata": {
        "colab": {
          "base_uri": "https://localhost:8080/"
        },
        "id": "3WVHX7rb4L3x",
        "outputId": "41ed2a66-a277-40fa-c2d4-0704b9916be2"
      },
      "execution_count": null,
      "outputs": [
        {
          "output_type": "stream",
          "name": "stdout",
          "text": [
            "{'c', 'b', 'a'}\n"
          ]
        }
      ]
    },
    {
      "cell_type": "markdown",
      "source": [
        "17. # Write a code to clear all elements from the set {1, 2, 3, 4, 5}."
      ],
      "metadata": {
        "id": "pqKf72264U1y"
      }
    },
    {
      "cell_type": "code",
      "source": [
        "\n",
        "my_set = {1, 2, 3, 4, 5}\n",
        "my_set.clear()\n",
        "print(my_set)\n"
      ],
      "metadata": {
        "colab": {
          "base_uri": "https://localhost:8080/"
        },
        "id": "08BJrCbp4dPW",
        "outputId": "10647fc2-7408-4c9f-b88a-a1c4740ed305"
      },
      "execution_count": null,
      "outputs": [
        {
          "output_type": "stream",
          "name": "stdout",
          "text": [
            "set()\n"
          ]
        }
      ]
    },
    {
      "cell_type": "markdown",
      "source": [
        "18. # Write a code to remove the element 4 from the set {1, 2, 3, 4}."
      ],
      "metadata": {
        "id": "6EYYnRxj4nfS"
      }
    },
    {
      "cell_type": "code",
      "source": [
        "\n",
        "my_set = {1, 2, 3, 4}\n",
        "my_set.remove(4)\n",
        "print(my_set)\n"
      ],
      "metadata": {
        "colab": {
          "base_uri": "https://localhost:8080/"
        },
        "id": "p0TaMozH4uJk",
        "outputId": "7c036655-f534-4caf-f0a9-e30436156bcf"
      },
      "execution_count": null,
      "outputs": [
        {
          "output_type": "stream",
          "name": "stdout",
          "text": [
            "{1, 2, 3}\n"
          ]
        }
      ]
    },
    {
      "cell_type": "markdown",
      "source": [
        "19. #   Write a code to find the union of two sets {1, 2, 3} and {3, 4, 5}."
      ],
      "metadata": {
        "id": "MGCxUAGg46O0"
      }
    },
    {
      "cell_type": "code",
      "source": [
        "\n",
        "set1 = {1, 2, 3}\n",
        "set2 = {3, 4, 5}\n",
        "union_set = set1 | set2\n",
        "print(union_set)\n"
      ],
      "metadata": {
        "colab": {
          "base_uri": "https://localhost:8080/"
        },
        "id": "ZtQ4SVgy5G-N",
        "outputId": "efa1466e-2bcf-4fd8-a61c-e70525d7151c"
      },
      "execution_count": null,
      "outputs": [
        {
          "output_type": "stream",
          "name": "stdout",
          "text": [
            "{1, 2, 3, 4, 5}\n"
          ]
        }
      ]
    },
    {
      "cell_type": "markdown",
      "source": [
        "20. # Write a code to find the intersection of two sets {1, 2, 3} and {2, 3, 4}."
      ],
      "metadata": {
        "id": "-gmsOKC_5XWD"
      }
    },
    {
      "cell_type": "code",
      "source": [
        "set1 = {1, 2, 3}\n",
        "set2 = {2, 3, 4}\n",
        "intersection_set = set1 & set2\n",
        "print(intersection_set)\n"
      ],
      "metadata": {
        "colab": {
          "base_uri": "https://localhost:8080/"
        },
        "id": "v0kvVnne5goU",
        "outputId": "b9f89e78-2624-4163-e6c3-1943b7e43863"
      },
      "execution_count": null,
      "outputs": [
        {
          "output_type": "stream",
          "name": "stdout",
          "text": [
            "{2, 3}\n"
          ]
        }
      ]
    },
    {
      "cell_type": "markdown",
      "source": [
        "21. # Write a code to create a dictionary with the keys \"name\", \"age\", and \"city\", and print it."
      ],
      "metadata": {
        "id": "50IC0gNj5uzL"
      }
    },
    {
      "cell_type": "code",
      "source": [
        "person = {\n",
        "    \"name\": \"Ritwik\",\n",
        "    \"age\": 22,\n",
        "    \"city\": \"Ranchi\"\n",
        "}\n",
        "print(person)\n"
      ],
      "metadata": {
        "colab": {
          "base_uri": "https://localhost:8080/"
        },
        "id": "yJw7bOVz5457",
        "outputId": "f9c8a30b-e123-4065-839a-4b15d5367b03"
      },
      "execution_count": null,
      "outputs": [
        {
          "output_type": "stream",
          "name": "stdout",
          "text": [
            "{'name': 'Ritwik', 'age': 22, 'city': 'Ranchi'}\n"
          ]
        }
      ]
    },
    {
      "cell_type": "markdown",
      "source": [
        "22. # Write a code to add a new key-value pair \"country\": \"USA\" to the dictionary {'name': 'John', 'age': 25}."
      ],
      "metadata": {
        "id": "M4igdmTR6ZJi"
      }
    },
    {
      "cell_type": "code",
      "source": [
        "person = {'name': 'John', 'age': 25}\n",
        "person[\"country\"] = \"USA\"\n",
        "print(person)\n"
      ],
      "metadata": {
        "colab": {
          "base_uri": "https://localhost:8080/"
        },
        "id": "Hv6f6jng6g_q",
        "outputId": "a062b387-fff4-44c4-9dfb-537eac769fcd"
      },
      "execution_count": null,
      "outputs": [
        {
          "output_type": "stream",
          "name": "stdout",
          "text": [
            "{'name': 'John', 'age': 25, 'country': 'USA'}\n"
          ]
        }
      ]
    },
    {
      "cell_type": "markdown",
      "source": [
        "23. # Write a code to access the value associated with the key \"name\" in the dictionary {'name': 'Alice', 'age': 30}."
      ],
      "metadata": {
        "id": "v6L8Uyhe6EqC"
      }
    },
    {
      "cell_type": "code",
      "source": [
        "person = {'name': 'Alice', 'age': 30}\n",
        "name_value = person[\"name\"]\n",
        "print(name_value)\n"
      ],
      "metadata": {
        "colab": {
          "base_uri": "https://localhost:8080/"
        },
        "id": "IfZ1BMGG6x3z",
        "outputId": "7e05297c-06c9-4518-e6d7-1e4c3782e6b4"
      },
      "execution_count": null,
      "outputs": [
        {
          "output_type": "stream",
          "name": "stdout",
          "text": [
            "Alice\n"
          ]
        }
      ]
    },
    {
      "cell_type": "markdown",
      "source": [
        "24. # Write a code to remove the key \"age\" from the dictionary {'name': 'Bob', 'age': 22, 'city': 'New York'}."
      ],
      "metadata": {
        "id": "5hB2gjzT6-52"
      }
    },
    {
      "cell_type": "code",
      "source": [
        "person = {'name': 'Bob', 'age': 22, 'city': 'New York'}\n",
        "del person[\"age\"]\n",
        "print(person)\n"
      ],
      "metadata": {
        "colab": {
          "base_uri": "https://localhost:8080/"
        },
        "id": "AKfiN2FS7H6Z",
        "outputId": "4d043575-edc2-4ca1-bf3f-a2a5cf98c10c"
      },
      "execution_count": null,
      "outputs": [
        {
          "output_type": "stream",
          "name": "stdout",
          "text": [
            "{'name': 'Bob', 'city': 'New York'}\n"
          ]
        }
      ]
    },
    {
      "cell_type": "markdown",
      "source": [
        "25. #  Write a code to check if the key \"city\" exists in the dictionary {'name': 'Alice', 'city': 'Paris'}."
      ],
      "metadata": {
        "id": "394R15vB7SOk"
      }
    },
    {
      "cell_type": "code",
      "source": [
        "person = {'name': 'Alice', 'city': 'Paris'}\n",
        "if \"city\" in person:\n",
        "    print(\"The key 'city' exists in the dictionary.\")\n",
        "else:\n",
        "    print(\"The key 'city' does not exist in the dictionary.\")\n"
      ],
      "metadata": {
        "colab": {
          "base_uri": "https://localhost:8080/"
        },
        "id": "EiMKi3107Xw8",
        "outputId": "5dc6a705-ba1c-44b5-8d86-35ddcdebf963"
      },
      "execution_count": null,
      "outputs": [
        {
          "output_type": "stream",
          "name": "stdout",
          "text": [
            "The key 'city' exists in the dictionary.\n"
          ]
        }
      ]
    },
    {
      "cell_type": "markdown",
      "source": [
        "26. # Write a code to create a list, a tuple, and a dictionary, and print them all."
      ],
      "metadata": {
        "id": "CpKwj73H7gzg"
      }
    },
    {
      "cell_type": "code",
      "source": [
        "my_list = [1, 2, 3, 4, 5]\n",
        "my_tuple = ('apple', 'banana', 'cherry')\n",
        "my_dict = {'name': 'Alice', 'age': 30, 'city': 'Paris'}\n",
        "print(\"List:\", my_list)\n",
        "print(\"Tuple:\", my_tuple)\n",
        "print(\"Dictionary:\", my_dict)\n"
      ],
      "metadata": {
        "colab": {
          "base_uri": "https://localhost:8080/"
        },
        "id": "0436Z5LG7qFq",
        "outputId": "b7f365b4-80a9-4999-8338-153146ba8f80"
      },
      "execution_count": null,
      "outputs": [
        {
          "output_type": "stream",
          "name": "stdout",
          "text": [
            "List: [1, 2, 3, 4, 5]\n",
            "Tuple: ('apple', 'banana', 'cherry')\n",
            "Dictionary: {'name': 'Alice', 'age': 30, 'city': 'Paris'}\n"
          ]
        }
      ]
    },
    {
      "cell_type": "markdown",
      "source": [
        "27. # Write a code to create a list of 5 random numbers between 1 and 100, sort it in ascending order, and print the result.(replaced)"
      ],
      "metadata": {
        "id": "Orzn-Khj71IS"
      }
    },
    {
      "cell_type": "code",
      "source": [
        "import random\n",
        "random_numbers = [random.randint(1, 100) for _ in range(5)]\n",
        "random_numbers.sort()\n",
        "print(\"Sorted List:\", random_numbers)\n"
      ],
      "metadata": {
        "colab": {
          "base_uri": "https://localhost:8080/"
        },
        "id": "osgTPZf88HIh",
        "outputId": "5059c7e5-9f8a-4c1a-9d6c-4aaa1c1132cc"
      },
      "execution_count": null,
      "outputs": [
        {
          "output_type": "stream",
          "name": "stdout",
          "text": [
            "Sorted List: [7, 59, 60, 78, 99]\n"
          ]
        }
      ]
    },
    {
      "cell_type": "markdown",
      "source": [
        "28. # Write a code to create a list with strings and print the element at the third index."
      ],
      "metadata": {
        "id": "mmGDOFJk8NZW"
      }
    },
    {
      "cell_type": "code",
      "source": [
        "my_list = [\"apple\", \"banana\", \"cherry\", \"date\", \"elderberry\"]\n",
        "print(my_list[3])\n",
        "\n",
        "\n"
      ],
      "metadata": {
        "colab": {
          "base_uri": "https://localhost:8080/"
        },
        "id": "FgPy8zx-8Ui1",
        "outputId": "872d0f77-5081-4854-e736-c9edb8f72048"
      },
      "execution_count": null,
      "outputs": [
        {
          "output_type": "stream",
          "name": "stdout",
          "text": [
            "date\n"
          ]
        }
      ]
    },
    {
      "cell_type": "markdown",
      "source": [
        "29. # Write a code to combine two dictionaries into one and print the result."
      ],
      "metadata": {
        "id": "cVaCwz5t8kL1"
      }
    },
    {
      "cell_type": "code",
      "source": [
        "dict1 = {'name': 'Alice', 'age': 30}\n",
        "dict2 = {'city': 'Paris', 'country': 'France'}\n",
        "combined_dict = {**dict1, **dict2}\n",
        "print(combined_dict)\n"
      ],
      "metadata": {
        "colab": {
          "base_uri": "https://localhost:8080/"
        },
        "id": "yYtRMokD8sLU",
        "outputId": "7f1a04e8-640f-401e-82b7-2971223af032"
      },
      "execution_count": null,
      "outputs": [
        {
          "output_type": "stream",
          "name": "stdout",
          "text": [
            "{'name': 'Alice', 'age': 30, 'city': 'Paris', 'country': 'France'}\n"
          ]
        }
      ]
    },
    {
      "cell_type": "markdown",
      "source": [
        "30. #  Write a code to convert a list of strings into a set."
      ],
      "metadata": {
        "id": "lELml8ap809E"
      }
    },
    {
      "cell_type": "code",
      "source": [
        "string_list = [\"apple\", \"banana\", \"cherry\", \"apple\", \"banana\"]\n",
        "string_set = set(string_list)\n",
        "print(string_set)\n"
      ],
      "metadata": {
        "colab": {
          "base_uri": "https://localhost:8080/"
        },
        "id": "9H13T8XE9UV-",
        "outputId": "dc6dd663-a097-4e96-904c-68a599a76244"
      },
      "execution_count": 36,
      "outputs": [
        {
          "output_type": "stream",
          "name": "stdout",
          "text": [
            "{'banana', 'cherry', 'apple'}\n"
          ]
        }
      ]
    }
  ]
}